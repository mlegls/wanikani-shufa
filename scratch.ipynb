{
 "cells": [
  {
   "cell_type": "code",
   "execution_count": 5,
   "metadata": {},
   "outputs": [],
   "source": [
    "using DotEnv\n",
    "DotEnv.config()\n",
    "using Cascadia\n",
    "using Gumbo\n",
    "using HTTP\n",
    "using JSON"
   ]
  },
  {
   "cell_type": "code",
   "execution_count": 6,
   "metadata": {},
   "outputs": [
    {
     "data": {
      "text/plain": [
       "wanikani (generic function with 1 method)"
      ]
     },
     "metadata": {},
     "output_type": "display_data"
    }
   ],
   "source": [
    "# curl \"https://api.wanikani.com/v2/<api_endpoint_here>\" -H \"Authorization: Bearer <api_token_here>\"\n",
    "wanikani(endpoint::String) =\n",
    "  HTTP.get(\n",
    "    \"https://api.wanikani.com/v2/$endpoint\",\n",
    "    headers=Dict(\"Authorization\" => \"Bearer $(ENV[\"WANIKANI_API_TOKEN\"])\")\n",
    "  ).body |> String |> JSON.parse"
   ]
  },
  {
   "cell_type": "code",
   "execution_count": 7,
   "metadata": {},
   "outputs": [],
   "source": [
    "# subjects = vcat([wanikani(\"subjects?page_after_id=$(id * 1000)\")[\"data\"] for id in 0:9]...)"
   ]
  },
  {
   "cell_type": "code",
   "execution_count": 8,
   "metadata": {},
   "outputs": [],
   "source": [
    "# write subjects to file\n",
    "#=\n",
    "open(\"subjects.json\", \"w\") do f\n",
    "  JSON.print(f, subjects)\n",
    "end\n",
    "=#"
   ]
  },
  {
   "cell_type": "code",
   "execution_count": 9,
   "metadata": {},
   "outputs": [],
   "source": [
    "subjects = JSON.parse(read(\"subjects.json\", String));"
   ]
  },
  {
   "cell_type": "code",
   "execution_count": 10,
   "metadata": {},
   "outputs": [
    {
     "data": {
      "text/plain": [
       "Dict{String, Any} with 5 entries:\n",
       "  \"data_updated_at\" => \"2022-10-29T03:20:13.285138Z\"\n",
       "  \"id\"              => 310768846\n",
       "  \"object\"          => \"assignment\"\n",
       "  \"data\"            => Dict{String, Any}(\"passed_at\"=>\"2022-10-29T03:20:13.2625…\n",
       "  \"url\"             => \"https://api.wanikani.com/v2/assignments/310768846\""
      ]
     },
     "metadata": {},
     "output_type": "display_data"
    }
   ],
   "source": [
    "assignments = wanikani(\"assignments\")[\"data\"]\n",
    "assignments[1]"
   ]
  },
  {
   "cell_type": "code",
   "execution_count": 11,
   "metadata": {},
   "outputs": [
    {
     "data": {
      "text/plain": [
       "Dict{String, Any} with 5 entries:\n",
       "  \"data_updated_at\" => \"2022-06-17T23:29:43.928033Z\"\n",
       "  \"id\"              => 441\n",
       "  \"object\"          => \"kanji\"\n",
       "  \"data\"            => Dict{String, Any}(\"created_at\"=>\"2012-02-27T20:15:43.000…\n",
       "  \"url\"             => \"https://api.wanikani.com/v2/subjects/441\""
      ]
     },
     "metadata": {},
     "output_type": "display_data"
    }
   ],
   "source": [
    "current = [subjects[i] for i in map(x -> x[\"data\"][\"subject_id\"], assignments) if subjects[i][\"object\"] == \"kanji\"]\n",
    "current[1]"
   ]
  },
  {
   "cell_type": "code",
   "execution_count": 12,
   "metadata": {},
   "outputs": [
    {
     "data": {
      "text/plain": [
       "Dict{String, Any} with 18 entries:\n",
       "  \"created_at\"                   => \"2012-02-27T20:15:43.000000Z\"\n",
       "  \"spaced_repetition_system_id\"  => 2\n",
       "  \"meanings\"                     => Any[Dict{String, Any}(\"primary\"=>true, \"mea…\n",
       "  \"level\"                        => 1\n",
       "  \"characters\"                   => \"二\"\n",
       "  \"readings\"                     => Any[Dict{String, Any}(\"primary\"=>true, \"rea…\n",
       "  \"visually_similar_subject_ids\" => Any[]\n",
       "  \"slug\"                         => \"二\"\n",
       "  \"hidden_at\"                    => nothing\n",
       "  \"meaning_hint\"                 => \"More simply put, you can just know that th…\n",
       "  \"meaning_mnemonic\"             => \"The kanji <kanji>two</kanji> and the radic…\n",
       "  \"lesson_position\"              => 27\n",
       "  \"component_subject_ids\"        => Any[7]\n",
       "  \"reading_hint\"                 => \"Imagine yourself without two knees, and se…\n",
       "  \"amalgamation_subject_ids\"     => Any[2473, 2474, 2476, 2545, 2589, 2628, 268…\n",
       "  \"document_url\"                 => \"https://www.wanikani.com/kanji/%E4%BA%8C\"\n",
       "  \"auxiliary_meanings\"           => Any[Dict{String, Any}(\"meaning\"=>\"2\", \"type…\n",
       "  \"reading_mnemonic\"             => \"Think of all the things you have <kanji>Tw…"
      ]
     },
     "metadata": {},
     "output_type": "display_data"
    }
   ],
   "source": [
    "current[1][\"data\"]"
   ]
  },
  {
   "cell_type": "code",
   "execution_count": 13,
   "metadata": {},
   "outputs": [
    {
     "data": {
      "text/plain": [
       "cidianwang (generic function with 1 method)"
      ]
     },
     "metadata": {},
     "output_type": "display_data"
    }
   ],
   "source": [
    "#=\n",
    "GET /?m=8&q=%E5%8F%AF&z=%E8%BE%93%E5%85%A5%E4%B9%A6%E6%B3%95%E5%AE%B6&y=5 HTTP/1.1\n",
    "Accept: text/html,application/xhtml+xml,application/xml;q=0.9,image/avif,image/webp,image/apng,*/*;q=0.8,application/signed-exchange;v=b3;q=0.9\n",
    "Accept-Encoding: gzip, deflate, br\n",
    "Accept-Language: en-US,en;q=0.9\n",
    "Connection: keep-alive\n",
    "DNT: 1\n",
    "Host: search.cidianwang.com\n",
    "Referer: https://www.cidianwang.com/\n",
    "Sec-Fetch-Dest: document\n",
    "Sec-Fetch-Mode: navigate\n",
    "Sec-Fetch-Site: same-site\n",
    "Sec-Fetch-User: ?1\n",
    "Upgrade-Insecure-Requests: 1\n",
    "User-Agent: Mozilla/5.0 (Macintosh; Intel Mac OS X 10_15_7) AppleWebKit/537.36 (KHTML, like Gecko) Chrome/107.0.0.0 Safari/537.36\n",
    "sec-ch-ua: \"Chromium\";v=\"107\", \"Not=A?Brand\";v=\"24\"\n",
    "sec-ch-ua-mobile: ?0\n",
    "sec-ch-ua-platform: \"macOS\"\n",
    "=#\n",
    "cidianwang(term::String) =\n",
    "  HTTP.get(\n",
    "    \"https://search.cidianwang.com/?m=8&q=$term&z=%E8%BE%93%E5%85%A5%E4%B9%A6%E6%B3%95%E5%AE%B6&y=5\",\n",
    "    headers=Dict(\n",
    "      \"Accept\" => \"text/html,application/xhtml+xml,application/xml;q=0.9,image/avif,image/webp,image/apng,*/*;q=0.8,application/signed-exchange;v=b3;q=0.9\", \"Accept-Encoding\" => \"gzip, deflate, br\", \"Accept-Language\" => \"en-US,en;q=0.9\", \"Connection\" => \"keep-alive\", \"DNT\" => \"1\", \"Host\" => \"search.cidianwang.com\", \"Referer\" => \"https://www.cidianwang.com/\", \"Sec-Fetch-Dest\" => \"document\", \"Sec-Fetch-Mode\" => \"navigate\", \"Sec-Fetch-Site\" => \"same-site\", \"Sec-Fetch-User\" => \"?1\", \"Upgrade-Insecure-Requests\" => \"1\", \"User-Agent\" => \"Mozilla/5.0 (Macintosh; Intel Mac OS X 10_15_7) AppleWebKit/537.36 (KHTML, like Gecko) Chrome/107.0.0.0 Safari/537.36\", \"sec-ch-ua\" => \"\\\"Chromium\\\";v=\\\"107\\\", \\\"Not=A?Brand\\\";v=\\\"24\\\"\", \"sec-ch-ua-mobile\" => \"?0\", \"sec-ch-ua-platform\" => \"macOS\"\n",
    "    )).body |> String |> parsehtml"
   ]
  },
  {
   "cell_type": "code",
   "execution_count": 14,
   "metadata": {},
   "outputs": [
    {
     "data": {
      "text/plain": [
       "HTML Document:\n",
       "<!DOCTYPE >\n",
       "HTMLElement{:HTML}:<HTML>\n",
       "  <head></head>\n",
       "  <body>\n",
       "    ﻿\n",
       "    <meta content=\"text/html; charset=utf-8\" http-equiv=\"Content-Type\"/>\n",
       "    <title>\n",
       "      可书法写法_可怎么写好看_可书法图片_词典网\n",
       "    </title>\n",
       "    <meta content=\"可，可书法，可怎么写，可书法图片，可毛笔字，可行书，可草书，可楷书，可隶书，可篆书，可书法字典\" name=\"keywords\"/>\n",
       "    <meta content=\"可怎么写好看，可毛笔怎么写，可书法图片，可名家书法，可书法欣赏，可书法字帖，可的行书写法，可的草书写法，可的楷书写法，可的隶书写法。\" name=\"description\"/>\n",
       "    <meta content=\"format=html5; url=https://m.cidianwang.com/shufa/ke4780.htm\" http-equiv=\"mobile-agent\"/>\n",
       "    <link href=\"/css/style.css\" rel=\"stylesheet\" type=\"text/css\"/>\n",
       "    <script charset=\"gb2312\" src=\"/css/newcommon.js\" type=\"text/javascript\"></script>\n",
       "    <link href=\"/images/favicon.ico\" rel=\"shortcut icon\"/>\n",
       "    <script src=\"/css/box.js\" type=\"text/javascript\"></script>\n",
       "    <script src=\"/css/jquery.min.js\" type=\"text/javascript\"></script>\n",
       "    <script src=\"/css/template-web.js\" type=\"text/javascript\"></script>\n",
       "    <script src=\"/css/lazysizes.js\" type=\"text/javascript\"></script>\n",
       "    <style type=\"text/css\">.zdsf h1{margin:10px 0;padding:10px 0;color:green;}.sfzdjs img{width:160px;border:1px solid #e6e6e6;cursor:pointer;max-height:160px;}.content h2{height:30px;border-bottom: 1px solid #e6e6e6;       clear: both;\tmargin:5px 0;\tpadding:0;overflow:hidden;}.sfzdjs,.fy{clear:both;}.sfzdjs ul{margin:0 auto;padding:0 0 0 5px;}.sfzdjs li{width:166px;height:235px;text-align:center;list-style-type:none;margin:3px;float:left;padding:0;font-size:13px;overflow:hidden;}.word li{text-align:left;width:160px;height:25px;}.wordsc li{text-align:left;width:200px;height:25px;}fieldset{border:1px solid #B8D9F4;clear:both;}.ks{width:20px;height:32px;padding:4px 0 0 20px;border:0 none;background:#ddd url('/images/i2.png') -301px -35px;cursor:pointer;font-size:15px;}.k4{padding:4px 0 0 0;}.fy{margin:20px;padding:10px 0;}.k3{width:100px;}.k6{width:274px;}#comment{margin-left:0;}.sfjtj li{text-align:left;width:160px;height:25px;float:left;overflow:hidden;}.dh3 ul{margin:0;padding:0;}.dh3 li{text-align:left;width:49%;height:auto;float:left;}.dh3 span{width:100%;}.content h2::before{    content: '';    width: 5px;    height: 20px;    border-radius: 1px;    margin-right: 10px;    background-color: #f85959;    display: inline-block;    vertical-align: sub;}.xxl_xgnews .fr {      overflow: hidden;    background-color: #ffffff;    vertical-align: middle;         width:150px;    height:80px;    text-align: center;  }.xxl_xgnews .fr img{  border: none;  margin:0 auto;  width:100px;  height:100px;  -webkit-transition: opacity 300ms ease;  -moz-transition: opacity ease .3s;  pointer-events: none;  -webkit-tap-highlight-color: rgba(0, 0, 0, 0);  -webkit-user-select: none;  text-decoration: none;}.xgword{margin:0;padding:0;overflow:hidden;}.xgword li{float:left;list-style-type:none;text-align:center;overflow:hidden;}.xgword{margin:10px auto;text-align:center;width:100%;clear:both;cursor:pointer;overflow:hidden;}.xgword a{ display:inline-block;border-radius:10px;border:1px solid #ccc;padding:5px 15px;margin:5px;}.xgword a:link,.xgword a:visited,.xgword a:hover{text-decoration:none;color:#222222;font-size:16px;}.dh2 ul{    display: -webkit-box;    display: -webkit-flex;    display: -ms-flexbox;    width: 100%;    display: flex;    flex-direction: row;    flex-wrap: wrap;    justify-content:center;\tpadding:0 5px;\t}.dh2 li{width:120px;list-style-type:none;overflow:hidden;white-space:normal;}.dh2 li a{font-size:12px;}    </style>\n",
       "    <div class=\"zbar\">\n",
       "...\n"
      ]
     },
     "metadata": {},
     "output_type": "display_data"
    }
   ],
   "source": [
    "ke = cidianwang(\"可\")"
   ]
  },
  {
   "cell_type": "code",
   "execution_count": 15,
   "metadata": {},
   "outputs": [
    {
     "data": {
      "text/plain": [
       "6-element Vector{HTMLNode}:\n",
       " HTMLElement{:h2}:<h2>\n",
       "  可的行书书法图片\n",
       "  <span class=\"iright\">\n",
       "    <a href=\"/shufa/ke4780_xs.htm\">\n",
       "      更多\n",
       "    </a>\n",
       "  </span>\n",
       "</h2>\n",
       "\n",
       "\n",
       " HTMLElement{:h2}:<h2>\n",
       "  可的楷书书法图片\n",
       "  <span class=\"iright\">\n",
       "    <a href=\"/shufa/ke4780_ks.htm\">\n",
       "      更多\n",
       "    </a>\n",
       "  </span>\n",
       "</h2>\n",
       "\n",
       "\n",
       " HTMLElement{:h2}:<h2>\n",
       "  可的草书书法图片\n",
       "  <span class=\"iright\">\n",
       "    <a href=\"/shufa/ke4780_cs.htm\">\n",
       "      更多\n",
       "    </a>\n",
       "  </span>\n",
       "</h2>\n",
       "\n",
       "\n",
       " HTMLElement{:h2}:<h2>\n",
       "  可的隶书书法图片\n",
       "  <span class=\"iright\">\n",
       "    <a href=\"/shufa/ke4780_ls.htm\">\n",
       "      更多\n",
       "    </a>\n",
       "  </span>\n",
       "</h2>\n",
       "\n",
       "\n",
       " HTMLElement{:h2}:<h2>\n",
       "  可的篆书书法图片\n",
       "  <span class=\"iright\">\n",
       "    <a href=\"/shufa/ke4780_zs.htm\">\n",
       "      更多\n",
       "    </a>\n",
       "  </span>\n",
       "</h2>\n",
       "\n",
       "\n",
       " HTMLElement{:h2}:<h2>\n",
       "  可的小楷书法图片\n",
       "  <span class=\"iright\">\n",
       "    <a href=\"/shufa/ke4780_xk.htm\">\n",
       "      更多\n",
       "    </a>\n",
       "  </span>\n",
       "</h2>\n",
       "\n"
      ]
     },
     "metadata": {},
     "output_type": "display_data"
    }
   ],
   "source": [
    "lists = eachmatch(sel\".sfzdjs h2\", ke.root)"
   ]
  },
  {
   "cell_type": "code",
   "execution_count": 16,
   "metadata": {},
   "outputs": [
    {
     "data": {
      "text/plain": [
       "6-element Vector{HTMLNode}:\n",
       " HTMLElement{:ul}:<ul>\n",
       "  <li>\n",
       "    <img alt=\"韩道亨临兰亭序册中可的写法\" class=\"lazyload\" data-src=\"https://c.cidianwang.com/file/shufa/xingshu/a/202110816294819b62.jpg\" height=\"168\" src=\"/images/sg_trans.gif\" title=\"韩道亨写的可\"/>\n",
       "    <a href=\"/shufa/handaoheng2948.htm\">\n",
       "      韩道亨\n",
       "    </a>\n",
       "    <br/>\n",
       "    <span class=\"fgray\">\n",
       "      <a href=\"/shufa/z8/ke4780_2948.htm\">\n",
       "        韩道亨写的可\n",
       "      </a>\n",
       "      <br/>\n",
       "      出自：临兰亭序册\n",
       "    </span>\n",
       "  </li>\n",
       "  <li>\n",
       "    <img alt=\"查昇临怀仁集王羲之圣教序中可的写法\" class=\"lazyload\" data-src=\"https://c.cidianwang.com/file/shufa/xingshu/a/2021108115626c2d3c.jpg\" height=\"168\" src=\"/images/sg_trans.gif\" title=\"查昇写的可\"/>\n",
       "    <a href=\"/shufa/chasheng4478.htm\">\n",
       "      查昇\n",
       "    </a>\n",
       "...\n",
       "\n",
       " HTMLElement{:ul}:<ul>\n",
       "  <li>\n",
       "    <img alt=\"赵孟頫真草千字文中可的写法\" class=\"lazyload\" data-src=\"https://c.cidianwang.com/file/shufa/kaishu/zhaomengfu/202110816582741589.jpg\" height=\"168\" src=\"/images/sg_trans.gif\" title=\"赵孟頫写的可\"/>\n",
       "    <a href=\"/shufa/zhaomengfu2771.htm\">\n",
       "      赵孟頫\n",
       "    </a>\n",
       "    <br/>\n",
       "    <span class=\"fgray\">\n",
       "      <a href=\"/shufa/z1/ke4780_2771.htm\">\n",
       "        赵孟頫写的可\n",
       "      </a>\n",
       "      <br/>\n",
       "      出自：真草千字文\n",
       "    </span>\n",
       "  </li>\n",
       "  <li>\n",
       "    <img alt=\"潘伯鹰临大字阴符经中可的写法\" class=\"lazyload\" data-src=\"https://c.cidianwang.com/file/shufa/kaishu/a/20211081643206dfca.jpg\" height=\"168\" src=\"/images/sg_trans.gif\" title=\"潘伯鹰写的可\"/>\n",
       "    <a href=\"/shufa/panboying4481.htm\">\n",
       "      潘伯鹰\n",
       "    </a>\n",
       "...\n",
       "\n",
       " HTMLElement{:ul}:<ul>\n",
       "  <li>\n",
       "    <img alt=\"怀素小草千字文中可的写法\" class=\"lazyload\" data-src=\"https://c.cidianwang.com/file/shufa/caoshu/huaisu/20211081330198a4e7.jpg\" height=\"168\" src=\"/images/sg_trans.gif\" title=\"怀素写的可\"/>\n",
       "    <a href=\"/shufa/huaisu2889.htm\">\n",
       "      怀素\n",
       "    </a>\n",
       "    <br/>\n",
       "    <span class=\"fgray\">\n",
       "      <a href=\"/shufa/z9/ke4780_2889.htm\">\n",
       "        怀素写的可\n",
       "      </a>\n",
       "      <br/>\n",
       "      出自：小草千字文\n",
       "    </span>\n",
       "  </li>\n",
       "  <li>\n",
       "    <img alt=\"蒋杰登岱诗中可的写法\" class=\"lazyload\" data-src=\"https://c.cidianwang.com/file/shufa/caoshu/a/20211081236247a796.jpg\" height=\"168\" src=\"/images/sg_trans.gif\" title=\"蒋杰写的可\"/>\n",
       "    <a href=\"/shufa/jiangjie4479.htm\">\n",
       "      蒋杰\n",
       "    </a>\n",
       "...\n",
       "\n",
       " HTMLElement{:ul}:<ul>\n",
       "  <li>\n",
       "    <img alt=\"林散之临乙瑛碑中可的写法\" class=\"lazyload\" data-src=\"https://c.cidianwang.com/file/shufa/lishu/linsanzhi/202110616173c20f4.jpg\" height=\"168\" src=\"/images/sg_trans.gif\" title=\"林散之写的可\"/>\n",
       "    <a href=\"/shufa/linsanzhi4474.htm\">\n",
       "      林散之\n",
       "    </a>\n",
       "    <br/>\n",
       "    <span class=\"fgray\">\n",
       "      <a href=\"/shufa/z4/ke4780_4474.htm\">\n",
       "        林散之写的可\n",
       "      </a>\n",
       "      <br/>\n",
       "      出自：临乙瑛碑\n",
       "    </span>\n",
       "  </li>\n",
       "  <li>\n",
       "    <img alt=\"萧娴临石门颂中可的写法\" class=\"lazyload\" data-src=\"https://c.cidianwang.com/file/shufa/lishu/2021106154917a3dc7.jpg\" height=\"168\" src=\"/images/sg_trans.gif\" title=\"萧娴写的可\"/>\n",
       "    <a href=\"/shufa/xiaoxian4473.htm\">\n",
       "      萧娴\n",
       "    </a>\n",
       "...\n",
       "\n",
       " HTMLElement{:ul}:<ul>\n",
       "  <li>\n",
       "    <img alt=\"徐三庚出师表中可的写法\" class=\"lazyload\" data-src=\"https://c.cidianwang.com/file/shufa/zhuanshu/202110612223851649.jpg\" height=\"168\" src=\"/images/sg_trans.gif\" title=\"徐三庚写的可\"/>\n",
       "    <a href=\"/shufa/xusangeng2743.htm\">\n",
       "      徐三庚\n",
       "    </a>\n",
       "    <br/>\n",
       "    <span class=\"fgray\">\n",
       "      <a href=\"/shufa/z3/ke4780_2743.htm\">\n",
       "        徐三庚写的可\n",
       "      </a>\n",
       "      <br/>\n",
       "      出自：出师表\n",
       "    </span>\n",
       "  </li>\n",
       "  <li>\n",
       "    <img alt=\"吴昌硕临石鼓文册中可的写法\" class=\"lazyload\" data-src=\"https://c.cidianwang.com/file/shufa/zhuanshu/2019121794243c69bd.jpg\" height=\"168\" src=\"/images/sg_trans.gif\" title=\"吴昌硕写的可\"/>\n",
       "    <a href=\"/shufa/wuchangshuo2738.htm\">\n",
       "      吴昌硕\n",
       "    </a>\n",
       "...\n",
       "\n",
       " HTMLElement{:ul}:<ul>\n",
       "  <li>\n",
       "    <img alt=\"王玄宗王洪范碑中可的写法\" class=\"lazyload\" data-src=\"https://c.cidianwang.com/file/shufa/xiaokai/20191216202152a0075.jpg\" height=\"168\" src=\"/images/sg_trans.gif\" title=\"王玄宗写的可\"/>\n",
       "    <a href=\"/shufa/wangxuanzong4460.htm\">\n",
       "      王玄宗\n",
       "    </a>\n",
       "    <br/>\n",
       "    <span class=\"fgray\">\n",
       "      <a href=\"/shufa/z0/ke4780_4460.htm\">\n",
       "        王玄宗写的可\n",
       "      </a>\n",
       "      <br/>\n",
       "      出自：王洪范碑\n",
       "    </span>\n",
       "  </li>\n",
       "  <li>\n",
       "    <img alt=\"吴玉如临乐毅论中可的写法\" class=\"lazyload\" data-src=\"https://c.cidianwang.com/file/shufa/xiaokai/201883184254c7c16.jpg\" height=\"168\" src=\"/images/sg_trans.gif\" title=\"吴玉如写的可\"/>\n",
       "    <a href=\"/shufa/wuyuru4445.htm\">\n",
       "      吴玉如\n",
       "    </a>\n",
       "...\n"
      ]
     },
     "metadata": {},
     "output_type": "display_data"
    }
   ],
   "source": [
    "lists = eachmatch(sel\".sfzdjs ul\", ke.root)"
   ]
  },
  {
   "cell_type": "code",
   "execution_count": 17,
   "metadata": {},
   "outputs": [
    {
     "data": {
      "text/plain": [
       "18-element Vector{String}:\n",
       " \"二\"\n",
       " \"山\"\n",
       " \"九\"\n",
       " \"工\"\n",
       " \"八\"\n",
       " \"一\"\n",
       " \"三\"\n",
       " \"上\"\n",
       " \"下\"\n",
       " \"七\"\n",
       " \"川\"\n",
       " \"大\"\n",
       " \"口\"\n",
       " \"力\"\n",
       " \"人\"\n",
       " \"女\"\n",
       " \"入\"\n",
       " \"十\""
      ]
     },
     "metadata": {},
     "output_type": "display_data"
    }
   ],
   "source": [
    "wanikani_characters = [x[\"data\"][\"characters\"] for x in current]"
   ]
  },
  {
   "cell_type": "code",
   "execution_count": 18,
   "metadata": {},
   "outputs": [
    {
     "data": {
      "text/plain": [
       "HTML Document:\n",
       "<!DOCTYPE >\n",
       "HTMLElement{:HTML}:<HTML>\n",
       "  <head></head>\n",
       "  <body>\n",
       "    ﻿\n",
       "    <meta content=\"text/html; charset=utf-8\" http-equiv=\"Content-Type\"/>\n",
       "    <title>\n",
       "      二书法写法_二怎么写好看_二书法图片_词典网\n",
       "    </title>\n",
       "    <meta content=\"二，二书法，二怎么写，二书法图片，二毛笔字，二行书，二草书，二楷书，二隶书，二篆书，二书法字典\" name=\"keywords\"/>\n",
       "    <meta content=\"二怎么写好看，二毛笔怎么写，二书法图片，二名家书法，二书法欣赏，二书法字帖，二的行书写法，二的草书写法，二的楷书写法，二的隶书写法。\" name=\"description\"/>\n",
       "    <meta content=\"format=html5; url=https://m.cidianwang.com/shufa/er1206.htm\" http-equiv=\"mobile-agent\"/>\n",
       "    <link href=\"/css/style.css\" rel=\"stylesheet\" type=\"text/css\"/>\n",
       "    <script charset=\"gb2312\" src=\"/css/newcommon.js\" type=\"text/javascript\"></script>\n",
       "    <link href=\"/images/favicon.ico\" rel=\"shortcut icon\"/>\n",
       "    <script src=\"/css/box.js\" type=\"text/javascript\"></script>\n",
       "    <script src=\"/css/jquery.min.js\" type=\"text/javascript\"></script>\n",
       "    <script src=\"/css/template-web.js\" type=\"text/javascript\"></script>\n",
       "    <script src=\"/css/lazysizes.js\" type=\"text/javascript\"></script>\n",
       "    <style type=\"text/css\">.zdsf h1{margin:10px 0;padding:10px 0;color:green;}.sfzdjs img{width:160px;border:1px solid #e6e6e6;cursor:pointer;max-height:160px;}.content h2{height:30px;border-bottom: 1px solid #e6e6e6;       clear: both;\tmargin:5px 0;\tpadding:0;overflow:hidden;}.sfzdjs,.fy{clear:both;}.sfzdjs ul{margin:0 auto;padding:0 0 0 5px;}.sfzdjs li{width:166px;height:235px;text-align:center;list-style-type:none;margin:3px;float:left;padding:0;font-size:13px;overflow:hidden;}.word li{text-align:left;width:160px;height:25px;}.wordsc li{text-align:left;width:200px;height:25px;}fieldset{border:1px solid #B8D9F4;clear:both;}.ks{width:20px;height:32px;padding:4px 0 0 20px;border:0 none;background:#ddd url('/images/i2.png') -301px -35px;cursor:pointer;font-size:15px;}.k4{padding:4px 0 0 0;}.fy{margin:20px;padding:10px 0;}.k3{width:100px;}.k6{width:274px;}#comment{margin-left:0;}.sfjtj li{text-align:left;width:160px;height:25px;float:left;overflow:hidden;}.dh3 ul{margin:0;padding:0;}.dh3 li{text-align:left;width:49%;height:auto;float:left;}.dh3 span{width:100%;}.content h2::before{    content: '';    width: 5px;    height: 20px;    border-radius: 1px;    margin-right: 10px;    background-color: #f85959;    display: inline-block;    vertical-align: sub;}.xxl_xgnews .fr {      overflow: hidden;    background-color: #ffffff;    vertical-align: middle;         width:150px;    height:80px;    text-align: center;  }.xxl_xgnews .fr img{  border: none;  margin:0 auto;  width:100px;  height:100px;  -webkit-transition: opacity 300ms ease;  -moz-transition: opacity ease .3s;  pointer-events: none;  -webkit-tap-highlight-color: rgba(0, 0, 0, 0);  -webkit-user-select: none;  text-decoration: none;}.xgword{margin:0;padding:0;overflow:hidden;}.xgword li{float:left;list-style-type:none;text-align:center;overflow:hidden;}.xgword{margin:10px auto;text-align:center;width:100%;clear:both;cursor:pointer;overflow:hidden;}.xgword a{ display:inline-block;border-radius:10px;border:1px solid #ccc;padding:5px 15px;margin:5px;}.xgword a:link,.xgword a:visited,.xgword a:hover{text-decoration:none;color:#222222;font-size:16px;}.dh2 ul{    display: -webkit-box;    display: -webkit-flex;    display: -ms-flexbox;    width: 100%;    display: flex;    flex-direction: row;    flex-wrap: wrap;    justify-content:center;\tpadding:0 5px;\t}.dh2 li{width:120px;list-style-type:none;overflow:hidden;white-space:normal;}.dh2 li a{font-size:12px;}    </style>\n",
       "    <div class=\"zbar\">\n",
       "...\n"
      ]
     },
     "metadata": {},
     "output_type": "display_data"
    }
   ],
   "source": [
    "cidianwang(wanikani_characters[1])"
   ]
  },
  {
   "cell_type": "code",
   "execution_count": 19,
   "metadata": {},
   "outputs": [],
   "source": []
  }
 ],
 "metadata": {
  "kernelspec": {
   "display_name": "Julia 1.8.0",
   "language": "julia",
   "name": "julia-1.8"
  },
  "language_info": {
   "file_extension": ".jl",
   "mimetype": "application/julia",
   "name": "julia",
   "version": "1.8.0"
  },
  "orig_nbformat": 4
 },
 "nbformat": 4,
 "nbformat_minor": 2
}
